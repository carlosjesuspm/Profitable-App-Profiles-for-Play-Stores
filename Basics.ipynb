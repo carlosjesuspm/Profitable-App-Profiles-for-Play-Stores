{
 "cells": [
  {
   "cell_type": "markdown",
   "metadata": {},
   "source": [
    "# Profitable App Profiles for the App Store and Google Play Markets"
   ]
  },
  {
   "cell_type": "markdown",
   "metadata": {},
   "source": [
    "**What is the project about?**\n",
    "\n",
    "This project is an analitycal investigation of the features that induce  users to download free apps and their engagement with in-app ads.  \n",
    "\n",
    "**What the goal of the project?**\n",
    "\n",
    "The goal of this project is to analyze data in order to help our developers understand what types of apps are likely to attract users increasing the incomes from both App Store an Play Store. "
   ]
  },
  {
   "cell_type": "markdown",
   "metadata": {},
   "source": [
    "## Opening and Extracting Data ##"
   ]
  },
  {
   "cell_type": "markdown",
   "metadata": {},
   "source": [
    "The first step is to convert these databases into a list of lists. Thus, I will follow the process that I learned. At the same time, I created a function to print the first few rows and find the number of rows and columns of each data set."
   ]
  },
  {
   "cell_type": "code",
   "execution_count": 1,
   "metadata": {
    "scrolled": true
   },
   "outputs": [
    {
     "name": "stdout",
     "output_type": "stream",
     "text": [
      "['id', 'track_name', 'size_bytes', 'currency', 'price', 'rating_count_tot', 'rating_count_ver', 'user_rating', 'user_rating_ver', 'ver', 'cont_rating', 'prime_genre', 'sup_devices.num', 'ipadSc_urls.num', 'lang.num', 'vpp_lic']\n",
      "\n",
      "\n",
      "['284882215', 'Facebook', '389879808', 'USD', '0.0', '2974676', '212', '3.5', '3.5', '95.0', '4+', 'Social Networking', '37', '1', '29', '1']\n",
      "\n",
      "\n",
      "['389801252', 'Instagram', '113954816', 'USD', '0.0', '2161558', '1289', '4.5', '4.0', '10.23', '12+', 'Photo & Video', '37', '0', '29', '1']\n",
      "\n",
      "\n",
      "['529479190', 'Clash of Clans', '116476928', 'USD', '0.0', '2130805', '579', '4.5', '4.5', '9.24.12', '9+', 'Games', '38', '5', '18', '1']\n",
      "\n",
      "\n",
      "['420009108', 'Temple Run', '65921024', 'USD', '0.0', '1724546', '3842', '4.5', '4.0', '1.6.2', '9+', 'Games', '40', '5', '1', '1']\n",
      "\n",
      "\n",
      "Number of rows: 7197\n",
      "Number of columns: 16\n"
     ]
    }
   ],
   "source": [
    "## Open function for Apple ##\n",
    "\n",
    "opened_file= open(\"AppleStore.csv\")\n",
    "from csv import reader\n",
    "read_file = reader(opened_file)\n",
    "apple_data=list(read_file)\n",
    "apple_data_header=apple_data[0] ##apple database header##\n",
    "apple_data_list=apple_data[1:]  ##apple database left##\n",
    "\n",
    "\n",
    "\n",
    "## Open function for Google ##\n",
    "\n",
    "opened_file= open(\"googleplaystore.csv\")\n",
    "from csv import reader\n",
    "read_file = reader(opened_file)\n",
    "google_data=list(read_file)\n",
    "google_data_header=google_data[0]  ##google database header## \n",
    "google_data_list=google_data[1:]   ##google database left## \n",
    "\n",
    "\n",
    "\n",
    "## Definition of the explore function ##\n",
    "\n",
    "def explore_data(dataset, start, end, rows_and_columns=False):\n",
    "    dataset_slice = dataset[start:end]    \n",
    "    for row in dataset_slice:\n",
    "        print(row)\n",
    "        print('\\n') # adds a new (empty) line after each row\n",
    "\n",
    "    if rows_and_columns:\n",
    "        print('Number of rows:', len(dataset))\n",
    "        print('Number of columns:', len(dataset[0]))\n",
    "\n",
    "\n",
    "##Application of the explore_data function in Apple database##\n",
    "print(apple_data_header)\n",
    "print(\"\\n\")\n",
    "explore_data(apple_data_list, 0, 4, True)\n",
    "\n"
   ]
  },
  {
   "cell_type": "code",
   "execution_count": 2,
   "metadata": {
    "scrolled": true
   },
   "outputs": [
    {
     "name": "stdout",
     "output_type": "stream",
     "text": [
      "['App', 'Category', 'Rating', 'Reviews', 'Size', 'Installs', 'Type', 'Price', 'Content Rating', 'Genres', 'Last Updated', 'Current Ver', 'Android Ver']\n",
      "\n",
      "\n",
      "['Photo Editor & Candy Camera & Grid & ScrapBook', 'ART_AND_DESIGN', '4.1', '159', '19M', '10,000+', 'Free', '0', 'Everyone', 'Art & Design', 'January 7, 2018', '1.0.0', '4.0.3 and up']\n",
      "\n",
      "\n",
      "['Coloring book moana', 'ART_AND_DESIGN', '3.9', '967', '14M', '500,000+', 'Free', '0', 'Everyone', 'Art & Design;Pretend Play', 'January 15, 2018', '2.0.0', '4.0.3 and up']\n",
      "\n",
      "\n",
      "['U Launcher Lite – FREE Live Cool Themes, Hide Apps', 'ART_AND_DESIGN', '4.7', '87510', '8.7M', '5,000,000+', 'Free', '0', 'Everyone', 'Art & Design', 'August 1, 2018', '1.2.4', '4.0.3 and up']\n",
      "\n",
      "\n",
      "['Sketch - Draw & Paint', 'ART_AND_DESIGN', '4.5', '215644', '25M', '50,000,000+', 'Free', '0', 'Teen', 'Art & Design', 'June 8, 2018', 'Varies with device', '4.2 and up']\n",
      "\n",
      "\n",
      "Number of rows: 10841\n",
      "Number of columns: 13\n"
     ]
    }
   ],
   "source": [
    "##Application of the explore data function in Google database##\n",
    "\n",
    "print(google_data_header)\n",
    "print(\"\\n\")\n",
    "explore_data(google_data_list, 0, 4, True)"
   ]
  },
  {
   "cell_type": "markdown",
   "metadata": {},
   "source": [
    "If you want to review the databases the project is built upon, you can use the following links.\n",
    "\n",
    "Apple dspreadsheet:\n",
    "\n",
    "1. [link] https://www.kaggle.com/ramamet4/app-store-apple-data-set-10k-apps \n",
    "\n",
    "Google spreadsheet:\n",
    "\n",
    "2. [link] https://www.kaggle.com/lava18/google-play-store-apps"
   ]
  },
  {
   "cell_type": "markdown",
   "metadata": {},
   "source": [
    "## Deleting Wrong Data ##\n",
    "\n",
    "In order to get accurate results, the data must be prepared through a process called data cleaning, which allows me to remove inadequate data for my study, for instance, duplicate data.\n",
    " "
   ]
  },
  {
   "cell_type": "markdown",
   "metadata": {},
   "source": [
    "In the discussion regarding Google's database, people detected a certain error on row number 10472, where the category of app called 'Life Made WI-Fi Touchscreen Photo Frame' was missing. To the detect that error, I will create a loop that compares the lenght of each row with the length of the header. Upon its detection, the row is deleted.  \n"
   ]
  },
  {
   "cell_type": "code",
   "execution_count": 3,
   "metadata": {
    "scrolled": true
   },
   "outputs": [
    {
     "name": "stdout",
     "output_type": "stream",
     "text": [
      "10841\n",
      "['Life Made WI-Fi Touchscreen Photo Frame', '1.9', '19', '3.0M', '1,000+', 'Free', '0', 'Everyone', '', 'February 11, 2018', '1.0.19', '4.0 and up']\n",
      "10472\n",
      "10840\n"
     ]
    }
   ],
   "source": [
    "print(len(google_data_list)) ## Google list lenght's before the loop##\n",
    "\n",
    "for row in google_data_list:\n",
    "    if len(row) != len(google_data_header):\n",
    "        print(row)\n",
    "        print(google_data_list.index(row))\n",
    "del (google_data_list[10472])\n",
    "\n",
    "print(len(google_data_list)) ## Google list length's after the loop##\n"
   ]
  },
  {
   "cell_type": "markdown",
   "metadata": {},
   "source": [
    "To check that the wrong row has been deleted (and only this has been removed), I printed the lenght of our google list, and effectively, there is one row less in our database (10841-->10840)."
   ]
  },
  {
   "cell_type": "markdown",
   "metadata": {},
   "source": [
    "## Removing Duplicate Data"
   ]
  },
  {
   "cell_type": "markdown",
   "metadata": {},
   "source": [
    "### From Google Database ###"
   ]
  },
  {
   "cell_type": "markdown",
   "metadata": {},
   "source": [
    "Again, in the discussión, people noticed that there was duplicated data in Google's application list. For instance, if we search for *Instagram*, its displays four entries in our database:"
   ]
  },
  {
   "cell_type": "code",
   "execution_count": 4,
   "metadata": {},
   "outputs": [
    {
     "name": "stdout",
     "output_type": "stream",
     "text": [
      "['Instagram', 'SOCIAL', '4.5', '66577313', 'Varies with device', '1,000,000,000+', 'Free', '0', 'Teen', 'Social', 'July 31, 2018', 'Varies with device', 'Varies with device']\n",
      "['Instagram', 'SOCIAL', '4.5', '66577446', 'Varies with device', '1,000,000,000+', 'Free', '0', 'Teen', 'Social', 'July 31, 2018', 'Varies with device', 'Varies with device']\n",
      "['Instagram', 'SOCIAL', '4.5', '66577313', 'Varies with device', '1,000,000,000+', 'Free', '0', 'Teen', 'Social', 'July 31, 2018', 'Varies with device', 'Varies with device']\n",
      "['Instagram', 'SOCIAL', '4.5', '66509917', 'Varies with device', '1,000,000,000+', 'Free', '0', 'Teen', 'Social', 'July 31, 2018', 'Varies with device', 'Varies with device']\n"
     ]
    }
   ],
   "source": [
    "for app in google_data_list:\n",
    "    name=app[0]\n",
    "    if name == \"Instagram\":\n",
    "        print(app)"
   ]
  },
  {
   "cell_type": "markdown",
   "metadata": {},
   "source": [
    "Then, to extract these duplicate applications, I created an empty list where we can see and quantify the wrong data to delete it. "
   ]
  },
  {
   "cell_type": "code",
   "execution_count": 5,
   "metadata": {},
   "outputs": [
    {
     "name": "stdout",
     "output_type": "stream",
     "text": [
      "Number of duplicate apps:  1181\n",
      "\n",
      "\n",
      "Examples of duplicates apps:  ['Quick PDF Scanner + OCR FREE', 'Box', 'Google My Business', 'ZOOM Cloud Meetings', 'join.me - Simple Meetings', 'Box', 'Zenefits', 'Google Ads', 'Google My Business', 'Slack', 'FreshBooks Classic', 'Insightly CRM', 'QuickBooks Accounting: Invoicing & Expenses', 'HipChat - Chat Built for Teams', 'Xero Accounting Software']\n"
     ]
    }
   ],
   "source": [
    "duplicate_apps= []\n",
    "unique_apps= []\n",
    "\n",
    "for app in google_data_list:\n",
    "    name=app[0]\n",
    "    if name in unique_apps:\n",
    "        duplicate_apps.append(name)\n",
    "    else:\n",
    "        unique_apps.append(name)\n",
    "        \n",
    "print(\"Number of duplicate apps: \", len(duplicate_apps)) ## Duplicate app length's ##\n",
    "print(\"\\n\")\n",
    "print(\"Examples of duplicates apps: \", duplicate_apps[:15])\n"
   ]
  },
  {
   "cell_type": "markdown",
   "metadata": {},
   "source": [
    "Now, I know that there are 1181 duplicated applications in our Google's database. Some of them are shown above. \n",
    "However, I will not remove the duplicated data randomly. I will keep those applications with the highest number of reviews, because it means that they are more updated.  "
   ]
  },
  {
   "cell_type": "markdown",
   "metadata": {},
   "source": [
    "After removing the duplicates, we should have 9,659 rows like this:"
   ]
  },
  {
   "cell_type": "code",
   "execution_count": 6,
   "metadata": {},
   "outputs": [
    {
     "name": "stdout",
     "output_type": "stream",
     "text": [
      "Expected length:  9659\n"
     ]
    }
   ],
   "source": [
    "print (\"Expected length: \", len(google_data_list)-1181)"
   ]
  },
  {
   "cell_type": "markdown",
   "metadata": {},
   "source": [
    "First, I will create an empty dictionary called 'reviews_max' where we will save the most updated ones (with the highest number of reviews) and non duplicated applications. Then, using a loop and two conditionals, I will add the applications name in our new dictionary. "
   ]
  },
  {
   "cell_type": "code",
   "execution_count": 7,
   "metadata": {
    "scrolled": true
   },
   "outputs": [
    {
     "name": "stdout",
     "output_type": "stream",
     "text": [
      "Length of the updated dictionary:  9659\n"
     ]
    }
   ],
   "source": [
    "reviews_max= {}\n",
    "\n",
    "for app in google_data_list:\n",
    "    name=app[0]\n",
    "    n_reviews= float(app[3])\n",
    "    \n",
    "    if name in reviews_max and reviews_max[name] < n_reviews:\n",
    "        reviews_max[name] = n_reviews\n",
    "        \n",
    "    elif name not in reviews_max:\n",
    "        reviews_max[name]= n_reviews\n",
    "\n",
    "print (\"Length of the updated dictionary: \",len(reviews_max))\n",
    "        "
   ]
  },
  {
   "cell_type": "markdown",
   "metadata": {},
   "source": [
    "As we predicted before, the total number of entries in our dictionary is 9659."
   ]
  },
  {
   "cell_type": "markdown",
   "metadata": {},
   "source": [
    "In the next step, I will create two new empty lists to separate and remove the duplicated applications from the original list, which will be called \"android_clean\" now. \n",
    "To get this, we must use a for loop where:\n",
    "1. We isolate the app name to a variable named \"name\" and we convert the numbers of reviews to float, and assign it to a variable named \"m_reviews\".\n",
    "2. Inside the loop, we will establish a conditional to append the entire row to the \"android_clean\" list and add the name of the app \"name\" to the \"already_added\" list. \n",
    "    \n",
    "Finally, to check the result, I will print the actual length of the list \"android_clean\"."
   ]
  },
  {
   "cell_type": "code",
   "execution_count": 8,
   "metadata": {},
   "outputs": [
    {
     "name": "stdout",
     "output_type": "stream",
     "text": [
      "Actual length:  9659\n"
     ]
    }
   ],
   "source": [
    "android_clean= [] ## we will store our data cleaned data set ##\n",
    "already_added=[]  ## we will just store app names ##\n",
    "\n",
    "for app in google_data_list:\n",
    "    name=app[0]\n",
    "    n_reviews=float(app[3])\n",
    "    \n",
    "    if (reviews_max[name]== n_reviews) and (name not in already_added):\n",
    "        android_clean.append(app)\n",
    "        already_added.append(name)\n",
    "\n",
    "print(\"Actual length: \", len(android_clean))\n",
    "        \n",
    "    "
   ]
  },
  {
   "cell_type": "markdown",
   "metadata": {},
   "source": [
    "## Removing non English Application ##"
   ]
  },
  {
   "cell_type": "markdown",
   "metadata": {},
   "source": [
    "Considering that one of our goals is to analyze data from the apps created for English speakers, we would need to filter the non-English ones and remove them . \n"
   ]
  },
  {
   "cell_type": "markdown",
   "metadata": {},
   "source": [
    "According to the ASCII (American Standard Code for Information Interchange) system, each character has a number associated. Those used in the English alphabet ranges from 0 to 127. "
   ]
  },
  {
   "cell_type": "markdown",
   "metadata": {},
   "source": [
    "With this information, I can create a function that detects whether a character belongs to the set of common English characters called \"english_character\". It contains a for loop with a conditional that examine each app of our database."
   ]
  },
  {
   "cell_type": "code",
   "execution_count": 9,
   "metadata": {},
   "outputs": [],
   "source": [
    "def english_character(string):\n",
    "    for character in string:\n",
    "        if ord (character) > 127:\n",
    "            return False\n",
    "    return True\n",
    "        "
   ]
  },
  {
   "cell_type": "markdown",
   "metadata": {},
   "source": [
    "Then, I will use this function over some apps to make sure that it detects if they are English or not: "
   ]
  },
  {
   "cell_type": "code",
   "execution_count": 10,
   "metadata": {
    "scrolled": true
   },
   "outputs": [
    {
     "name": "stdout",
     "output_type": "stream",
     "text": [
      "True\n",
      "False\n",
      "False\n",
      "False\n"
     ]
    }
   ],
   "source": [
    "print(english_character('Instagram'))\n",
    "print(english_character('爱奇艺PPS -《欢乐颂2》电视剧热播'))\n",
    "print(english_character('Docs To Go™ Free Office Suite'))\n",
    "print(english_character('Instachat 😜'))"
   ]
  },
  {
   "cell_type": "markdown",
   "metadata": {},
   "source": [
    "Based on the result, *Instagram* would be the only English app, but that is wrong. The third and the fourth example above are English-apps as well, but my function did not reccognize them because they use a super index and a emoji, respectively. "
   ]
  },
  {
   "cell_type": "markdown",
   "metadata": {},
   "source": [
    "If we are going to use the function we have created, we will lose useful data since many English apps will be incorrectly labeled as non-English. To minimize the impact of data loss, I will only remove an app if its name has more than three characters with corresponding numbers falling outside the ASCII range."
   ]
  },
  {
   "cell_type": "markdown",
   "metadata": {},
   "source": [
    "Thus, I will change the \"english_character\" function:"
   ]
  },
  {
   "cell_type": "code",
   "execution_count": 11,
   "metadata": {},
   "outputs": [],
   "source": [
    "def english_character(string):\n",
    "    non_ascii = 0\n",
    "    \n",
    "    for character in string:\n",
    "        if ord(character)> 127: \n",
    "            non_ascii+=1\n",
    "    if non_ascii >3:\n",
    "        return False\n",
    "    else:\n",
    "        return True"
   ]
  },
  {
   "cell_type": "code",
   "execution_count": 12,
   "metadata": {
    "scrolled": true
   },
   "outputs": [
    {
     "name": "stdout",
     "output_type": "stream",
     "text": [
      "True\n",
      "True\n",
      "False\n"
     ]
    }
   ],
   "source": [
    "print(english_character(\"Docs To Go™ Free Office Suite\"))\n",
    "print(english_character(\"Instachat 😜\"))\n",
    "print(english_character(\"爱奇艺PPS -《欢乐颂2》电视剧热播\"))"
   ]
  },
  {
   "cell_type": "markdown",
   "metadata": {},
   "source": [
    "Now that the results are more accurate, I will apply our new function over the Google and the Apple database: "
   ]
  },
  {
   "cell_type": "code",
   "execution_count": 13,
   "metadata": {
    "scrolled": true
   },
   "outputs": [
    {
     "name": "stdout",
     "output_type": "stream",
     "text": [
      "The actual length of Apple Database is: 6183\n",
      "The actual length of Google Database is: 9614\n"
     ]
    }
   ],
   "source": [
    "apple_english=[]\n",
    "android_english=[]\n",
    "\n",
    "for app in apple_data_list:\n",
    "    name=app[1]\n",
    "    if english_character(name):\n",
    "        apple_english.append(app)\n",
    "    \n",
    "for app in android_clean:\n",
    "    name=app[0]\n",
    "    if english_character(name):\n",
    "        android_english.append(app)\n",
    "    \n",
    "print(\"The actual length of Apple Database is:\", len(apple_english))\n",
    "print(\"The actual length of Google Database is:\", len(android_english))"
   ]
  },
  {
   "cell_type": "markdown",
   "metadata": {},
   "source": [
    "With all data sets clean, I will explore both to see how many rows we have remaining for each data set. "
   ]
  },
  {
   "cell_type": "code",
   "execution_count": 14,
   "metadata": {
    "scrolled": true
   },
   "outputs": [
    {
     "name": "stdout",
     "output_type": "stream",
     "text": [
      "['284882215', 'Facebook', '389879808', 'USD', '0.0', '2974676', '212', '3.5', '3.5', '95.0', '4+', 'Social Networking', '37', '1', '29', '1']\n",
      "\n",
      "\n",
      "['389801252', 'Instagram', '113954816', 'USD', '0.0', '2161558', '1289', '4.5', '4.0', '10.23', '12+', 'Photo & Video', '37', '0', '29', '1']\n",
      "\n",
      "\n",
      "['529479190', 'Clash of Clans', '116476928', 'USD', '0.0', '2130805', '579', '4.5', '4.5', '9.24.12', '9+', 'Games', '38', '5', '18', '1']\n",
      "\n",
      "\n",
      "['420009108', 'Temple Run', '65921024', 'USD', '0.0', '1724546', '3842', '4.5', '4.0', '1.6.2', '9+', 'Games', '40', '5', '1', '1']\n",
      "\n",
      "\n",
      "Number of rows: 6183\n",
      "Number of columns: 16\n",
      "\n",
      "\n",
      "['Photo Editor & Candy Camera & Grid & ScrapBook', 'ART_AND_DESIGN', '4.1', '159', '19M', '10,000+', 'Free', '0', 'Everyone', 'Art & Design', 'January 7, 2018', '1.0.0', '4.0.3 and up']\n",
      "\n",
      "\n",
      "['U Launcher Lite – FREE Live Cool Themes, Hide Apps', 'ART_AND_DESIGN', '4.7', '87510', '8.7M', '5,000,000+', 'Free', '0', 'Everyone', 'Art & Design', 'August 1, 2018', '1.2.4', '4.0.3 and up']\n",
      "\n",
      "\n",
      "['Sketch - Draw & Paint', 'ART_AND_DESIGN', '4.5', '215644', '25M', '50,000,000+', 'Free', '0', 'Teen', 'Art & Design', 'June 8, 2018', 'Varies with device', '4.2 and up']\n",
      "\n",
      "\n",
      "['Pixel Draw - Number Art Coloring Book', 'ART_AND_DESIGN', '4.3', '967', '2.8M', '100,000+', 'Free', '0', 'Everyone', 'Art & Design;Creativity', 'June 20, 2018', '1.1', '4.4 and up']\n",
      "\n",
      "\n",
      "Number of rows: 9614\n",
      "Number of columns: 13\n"
     ]
    }
   ],
   "source": [
    "explore_data(apple_english, 0, 4, True)\n",
    "print(\"\\n\")\n",
    "explore_data(android_english, 0, 4, True)"
   ]
  },
  {
   "cell_type": "markdown",
   "metadata": {},
   "source": [
    "So far in the data cleaning process, we have:\n",
    "\n",
    "1. Removed inaccurate data\n",
    "2. Removed duplicate app entries\n",
    "3. Removed non-English apps"
   ]
  },
  {
   "cell_type": "markdown",
   "metadata": {},
   "source": [
    "## Isolating Free Applications ##"
   ]
  },
  {
   "cell_type": "markdown",
   "metadata": {},
   "source": [
    "In the next step, I have to isolate only free apps from both database and add them in a two new empty lists, because I only work with English and free applications in my research.  "
   ]
  },
  {
   "cell_type": "code",
   "execution_count": 15,
   "metadata": {},
   "outputs": [
    {
     "name": "stdout",
     "output_type": "stream",
     "text": [
      "The actual length od our Google database is: 8864\n",
      "The actual length od our Apple database is: 3222\n"
     ]
    }
   ],
   "source": [
    "english_free_google= []\n",
    "english_free_apple= []\n",
    "\n",
    "for app in android_english:\n",
    "    price = app[7]\n",
    "    if price == \"0\":\n",
    "        english_free_google.append(app)\n",
    "        \n",
    "\n",
    "for app in apple_english:\n",
    "    price = app[4]\n",
    "    if price == \"0.0\":\n",
    "        english_free_apple.append(app)\n",
    "        \n",
    "print(\"The actual length od our Google database is:\",len(english_free_google))\n",
    "print(\"The actual length od our Apple database is:\",len(english_free_apple))"
   ]
  },
  {
   "cell_type": "markdown",
   "metadata": {},
   "source": [
    "Up to this point, inaccurate data, duplicated app entries, and non_English apps have been removed; and at the same time, free apps have been isolated."
   ]
  },
  {
   "cell_type": "markdown",
   "metadata": {},
   "source": [
    "## Validation Strategy ##\n"
   ]
  },
  {
   "cell_type": "markdown",
   "metadata": {},
   "source": [
    "To minimize risks and overhead, my validation strategy for an app idea is comprised of three steps:\n",
    "\n",
    "1. Build a minimal Android version of the app, and add it to Google Play.\n",
    "2. If the app has a good response from users, we develop it further.\n",
    "3. If the app is profitable after six months, we build an iOS version of the app and add it to the App Store"
   ]
  },
  {
   "cell_type": "markdown",
   "metadata": {},
   "source": [
    "Because our end goal is to add the app on both Google Play and the App Store, I need to find app profiles that are successful on both markets."
   ]
  },
  {
   "cell_type": "markdown",
   "metadata": {},
   "source": [
    "Now, I am going to identify what columns are necessary to do frecuency tables. I will print the header of both databases and choose the propiated column. "
   ]
  },
  {
   "cell_type": "code",
   "execution_count": 16,
   "metadata": {
    "scrolled": true
   },
   "outputs": [
    {
     "name": "stdout",
     "output_type": "stream",
     "text": [
      "['id', 'track_name', 'size_bytes', 'currency', 'price', 'rating_count_tot', 'rating_count_ver', 'user_rating', 'user_rating_ver', 'ver', 'cont_rating', 'prime_genre', 'sup_devices.num', 'ipadSc_urls.num', 'lang.num', 'vpp_lic']\n",
      "\n",
      "\n",
      "['App', 'Category', 'Rating', 'Reviews', 'Size', 'Installs', 'Type', 'Price', 'Content Rating', 'Genres', 'Last Updated', 'Current Ver', 'Android Ver']\n"
     ]
    }
   ],
   "source": [
    "print(apple_data_header)\n",
    "print(\"\\n\")\n",
    "print(google_data_header)"
   ]
  },
  {
   "cell_type": "markdown",
   "metadata": {},
   "source": [
    "We can see that the main columns (related to genre) for this part of the project are:\n",
    "- For Apple database: column 12\n",
    "- For Google database: column 10"
   ]
  },
  {
   "cell_type": "markdown",
   "metadata": {},
   "source": [
    "# Frecuency Tables #"
   ]
  },
  {
   "cell_type": "markdown",
   "metadata": {},
   "source": [
    "I will build two functions we can use to analyze the frequency tables:\n",
    "\n",
    "- One function to generate frequency tables that show percentages.\n",
    "- Another function we can use to display the percentages in a descending order."
   ]
  },
  {
   "cell_type": "markdown",
   "metadata": {},
   "source": [
    "To do that, I will need to make use of the built-in sorted() function. This function takes in an iterable data type (like a list, dictionary, tuple, etc.), and returns a list of the elements of that iterable sorted in ascending or descending order (the reverse parameter controls whether the order is ascending or descending)."
   ]
  },
  {
   "cell_type": "markdown",
   "metadata": {},
   "source": [
    "But before, I have to transform the dictionary into a list of tuples because \"sorted()\" function does not work with too well in dictionaries. "
   ]
  },
  {
   "cell_type": "markdown",
   "metadata": {},
   "source": [
    "Now, I will create a function for generating frequency tables, and use it in combination with the display_table() function."
   ]
  },
  {
   "cell_type": "code",
   "execution_count": 17,
   "metadata": {},
   "outputs": [],
   "source": [
    "def freq_table(dataset, index):\n",
    "    table={}\n",
    "    total=0 \n",
    "    \n",
    "    for row in dataset:\n",
    "\n",
    "        total+=1\n",
    "        value=row[index]\n",
    "       \n",
    "\n",
    "        if value in table:\n",
    "            table[value]+=1\n",
    "        \n",
    "        else:\n",
    "            table[value]= 1\n",
    "    \n",
    "    table_percentages={}\n",
    "    for key in table:\n",
    "        percentage= (table[key]/total)*100\n",
    "        table_percentages[key]=percentage \n",
    "        \n",
    "    return table_percentages\n",
    "    \n",
    "\n",
    "def display_table(dataset, index):\n",
    "    table = freq_table(dataset, index)\n",
    "    table_display = []\n",
    "    for key in table:\n",
    "        key_val_as_tuple = (table[key], key)\n",
    "        table_display.append(key_val_as_tuple)\n",
    "\n",
    "    table_sorted = sorted(table_display, reverse = True)\n",
    "    for entry in table_sorted:\n",
    "        print(entry[1], ':', entry[0])\n",
    "    \n",
    "   \n",
    "        "
   ]
  },
  {
   "cell_type": "markdown",
   "metadata": {},
   "source": [
    "Once function are defined, I will apply both of them over our data sets and will display the frequency table of the columns \"prime_genre\", \"Genres\", and \"Category\" :\n"
   ]
  },
  {
   "cell_type": "markdown",
   "metadata": {},
   "source": [
    "## For Apple Data Set ##\n"
   ]
  },
  {
   "cell_type": "markdown",
   "metadata": {},
   "source": [
    "Prime_genre:"
   ]
  },
  {
   "cell_type": "code",
   "execution_count": 18,
   "metadata": {
    "scrolled": true
   },
   "outputs": [
    {
     "name": "stdout",
     "output_type": "stream",
     "text": [
      "Games : 58.16263190564867\n",
      "Entertainment : 7.883302296710118\n",
      "Photo & Video : 4.9658597144630665\n",
      "Education : 3.662321539416512\n",
      "Social Networking : 3.2898820608317814\n",
      "Shopping : 2.60707635009311\n",
      "Utilities : 2.5139664804469275\n",
      "Sports : 2.1415270018621975\n",
      "Music : 2.0484171322160147\n",
      "Health & Fitness : 2.0173805090006205\n",
      "Productivity : 1.7380509000620732\n",
      "Lifestyle : 1.5828677839851024\n",
      "News : 1.3345747982619491\n",
      "Travel : 1.2414649286157666\n",
      "Finance : 1.1173184357541899\n",
      "Weather : 0.8690254500310366\n",
      "Food & Drink : 0.8069522036002483\n",
      "Reference : 0.5586592178770949\n",
      "Business : 0.5276225946617008\n",
      "Book : 0.4345127250155183\n",
      "Navigation : 0.186219739292365\n",
      "Medical : 0.186219739292365\n",
      "Catalogs : 0.12414649286157665\n"
     ]
    }
   ],
   "source": [
    "display_table(english_free_apple, -5)"
   ]
  },
  {
   "cell_type": "markdown",
   "metadata": {},
   "source": [
    "As we can see in the prime genre list of Apple dataset, games are the main English free genre with 58% of total apps. Also, entertainment and photo and video represent between 8% and 5% of total genre apps, respectively. Also, with a lower ratio, we can find genres like education, social networking, utilities and sports. "
   ]
  },
  {
   "cell_type": "markdown",
   "metadata": {},
   "source": [
    "With these percentages, most of the apps are designed for fun like games, while the practical purposes are more rare. "
   ]
  },
  {
   "cell_type": "markdown",
   "metadata": {},
   "source": [
    "However, the fact that fun apps are the most numerous does not also imply that they also have the greatest number of users — the demand might not be the same as the offer."
   ]
  },
  {
   "cell_type": "markdown",
   "metadata": {},
   "source": [
    "## For Google Data Set ##"
   ]
  },
  {
   "cell_type": "markdown",
   "metadata": {},
   "source": [
    "Category:"
   ]
  },
  {
   "cell_type": "code",
   "execution_count": 19,
   "metadata": {
    "scrolled": false
   },
   "outputs": [
    {
     "name": "stdout",
     "output_type": "stream",
     "text": [
      "FAMILY : 18.907942238267147\n",
      "GAME : 9.724729241877256\n",
      "TOOLS : 8.461191335740072\n",
      "BUSINESS : 4.591606498194946\n",
      "LIFESTYLE : 3.9034296028880866\n",
      "PRODUCTIVITY : 3.892148014440433\n",
      "FINANCE : 3.7003610108303246\n",
      "MEDICAL : 3.531137184115524\n",
      "SPORTS : 3.395758122743682\n",
      "PERSONALIZATION : 3.3167870036101084\n",
      "COMMUNICATION : 3.2378158844765346\n",
      "HEALTH_AND_FITNESS : 3.0798736462093865\n",
      "PHOTOGRAPHY : 2.944494584837545\n",
      "NEWS_AND_MAGAZINES : 2.7978339350180503\n",
      "SOCIAL : 2.6624548736462095\n",
      "TRAVEL_AND_LOCAL : 2.33528880866426\n",
      "SHOPPING : 2.2450361010830324\n",
      "BOOKS_AND_REFERENCE : 2.1435018050541514\n",
      "DATING : 1.861462093862816\n",
      "VIDEO_PLAYERS : 1.7937725631768955\n",
      "MAPS_AND_NAVIGATION : 1.3989169675090252\n",
      "FOOD_AND_DRINK : 1.2409747292418771\n",
      "EDUCATION : 1.1620036101083033\n",
      "ENTERTAINMENT : 0.9589350180505415\n",
      "LIBRARIES_AND_DEMO : 0.9363718411552346\n",
      "AUTO_AND_VEHICLES : 0.9250902527075812\n",
      "HOUSE_AND_HOME : 0.8235559566787004\n",
      "WEATHER : 0.8009927797833934\n",
      "EVENTS : 0.7107400722021661\n",
      "PARENTING : 0.6543321299638989\n",
      "ART_AND_DESIGN : 0.6430505415162455\n",
      "COMICS : 0.6204873646209386\n",
      "BEAUTY : 0.5979241877256317\n"
     ]
    }
   ],
   "source": [
    "display_table(english_free_google, 1 )"
   ]
  },
  {
   "cell_type": "markdown",
   "metadata": {},
   "source": [
    "Unlike of Apple Store users, the percentage of category app in Play Store are more equitative.It seems that they more related with practical purpose than fun. However, although family category keeps the first position in this list, many of their apps correspond to games for kids.  "
   ]
  },
  {
   "cell_type": "markdown",
   "metadata": {},
   "source": [
    "Genres:"
   ]
  },
  {
   "cell_type": "code",
   "execution_count": 20,
   "metadata": {
    "scrolled": true
   },
   "outputs": [
    {
     "name": "stdout",
     "output_type": "stream",
     "text": [
      "Tools : 8.449909747292418\n",
      "Entertainment : 6.069494584837545\n",
      "Education : 5.347472924187725\n",
      "Business : 4.591606498194946\n",
      "Productivity : 3.892148014440433\n",
      "Lifestyle : 3.892148014440433\n",
      "Finance : 3.7003610108303246\n",
      "Medical : 3.531137184115524\n",
      "Sports : 3.463447653429603\n",
      "Personalization : 3.3167870036101084\n",
      "Communication : 3.2378158844765346\n",
      "Action : 3.1024368231046933\n",
      "Health & Fitness : 3.0798736462093865\n",
      "Photography : 2.944494584837545\n",
      "News & Magazines : 2.7978339350180503\n",
      "Social : 2.6624548736462095\n",
      "Travel & Local : 2.3240072202166067\n",
      "Shopping : 2.2450361010830324\n",
      "Books & Reference : 2.1435018050541514\n",
      "Simulation : 2.0419675090252705\n",
      "Dating : 1.861462093862816\n",
      "Arcade : 1.8501805054151623\n",
      "Video Players & Editors : 1.7712093862815883\n",
      "Casual : 1.7599277978339352\n",
      "Maps & Navigation : 1.3989169675090252\n",
      "Food & Drink : 1.2409747292418771\n",
      "Puzzle : 1.128158844765343\n",
      "Racing : 0.9927797833935018\n",
      "Role Playing : 0.9363718411552346\n",
      "Libraries & Demo : 0.9363718411552346\n",
      "Auto & Vehicles : 0.9250902527075812\n",
      "Strategy : 0.9138086642599278\n",
      "House & Home : 0.8235559566787004\n",
      "Weather : 0.8009927797833934\n",
      "Events : 0.7107400722021661\n",
      "Adventure : 0.6768953068592057\n",
      "Comics : 0.6092057761732852\n",
      "Beauty : 0.5979241877256317\n",
      "Art & Design : 0.5979241877256317\n",
      "Parenting : 0.4963898916967509\n",
      "Card : 0.45126353790613716\n",
      "Casino : 0.42870036101083037\n",
      "Trivia : 0.41741877256317694\n",
      "Educational;Education : 0.39485559566787\n",
      "Board : 0.3835740072202166\n",
      "Educational : 0.3722924187725632\n",
      "Education;Education : 0.33844765342960287\n",
      "Word : 0.2594765342960289\n",
      "Casual;Pretend Play : 0.236913357400722\n",
      "Music : 0.2030685920577617\n",
      "Racing;Action & Adventure : 0.16922382671480143\n",
      "Puzzle;Brain Games : 0.16922382671480143\n",
      "Entertainment;Music & Video : 0.16922382671480143\n",
      "Casual;Brain Games : 0.13537906137184114\n",
      "Casual;Action & Adventure : 0.13537906137184114\n",
      "Arcade;Action & Adventure : 0.12409747292418773\n",
      "Action;Action & Adventure : 0.10153429602888085\n",
      "Educational;Pretend Play : 0.09025270758122744\n",
      "Simulation;Action & Adventure : 0.078971119133574\n",
      "Parenting;Education : 0.078971119133574\n",
      "Entertainment;Brain Games : 0.078971119133574\n",
      "Board;Brain Games : 0.078971119133574\n",
      "Parenting;Music & Video : 0.06768953068592057\n",
      "Educational;Brain Games : 0.06768953068592057\n",
      "Casual;Creativity : 0.06768953068592057\n",
      "Art & Design;Creativity : 0.06768953068592057\n",
      "Education;Pretend Play : 0.056407942238267145\n",
      "Role Playing;Pretend Play : 0.04512635379061372\n",
      "Education;Creativity : 0.04512635379061372\n",
      "Role Playing;Action & Adventure : 0.033844765342960284\n",
      "Puzzle;Action & Adventure : 0.033844765342960284\n",
      "Entertainment;Creativity : 0.033844765342960284\n",
      "Entertainment;Action & Adventure : 0.033844765342960284\n",
      "Educational;Creativity : 0.033844765342960284\n",
      "Educational;Action & Adventure : 0.033844765342960284\n",
      "Education;Music & Video : 0.033844765342960284\n",
      "Education;Brain Games : 0.033844765342960284\n",
      "Education;Action & Adventure : 0.033844765342960284\n",
      "Adventure;Action & Adventure : 0.033844765342960284\n",
      "Video Players & Editors;Music & Video : 0.02256317689530686\n",
      "Sports;Action & Adventure : 0.02256317689530686\n",
      "Simulation;Pretend Play : 0.02256317689530686\n",
      "Puzzle;Creativity : 0.02256317689530686\n",
      "Music;Music & Video : 0.02256317689530686\n",
      "Entertainment;Pretend Play : 0.02256317689530686\n",
      "Casual;Education : 0.02256317689530686\n",
      "Board;Action & Adventure : 0.02256317689530686\n",
      "Video Players & Editors;Creativity : 0.01128158844765343\n",
      "Trivia;Education : 0.01128158844765343\n",
      "Travel & Local;Action & Adventure : 0.01128158844765343\n",
      "Tools;Education : 0.01128158844765343\n",
      "Strategy;Education : 0.01128158844765343\n",
      "Strategy;Creativity : 0.01128158844765343\n",
      "Strategy;Action & Adventure : 0.01128158844765343\n",
      "Simulation;Education : 0.01128158844765343\n",
      "Role Playing;Brain Games : 0.01128158844765343\n",
      "Racing;Pretend Play : 0.01128158844765343\n",
      "Puzzle;Education : 0.01128158844765343\n",
      "Parenting;Brain Games : 0.01128158844765343\n",
      "Music & Audio;Music & Video : 0.01128158844765343\n",
      "Lifestyle;Pretend Play : 0.01128158844765343\n",
      "Lifestyle;Education : 0.01128158844765343\n",
      "Health & Fitness;Education : 0.01128158844765343\n",
      "Health & Fitness;Action & Adventure : 0.01128158844765343\n",
      "Entertainment;Education : 0.01128158844765343\n",
      "Communication;Creativity : 0.01128158844765343\n",
      "Comics;Creativity : 0.01128158844765343\n",
      "Casual;Music & Video : 0.01128158844765343\n",
      "Card;Action & Adventure : 0.01128158844765343\n",
      "Books & Reference;Education : 0.01128158844765343\n",
      "Art & Design;Pretend Play : 0.01128158844765343\n",
      "Art & Design;Action & Adventure : 0.01128158844765343\n",
      "Arcade;Pretend Play : 0.01128158844765343\n",
      "Adventure;Education : 0.01128158844765343\n"
     ]
    }
   ],
   "source": [
    "display_table(english_free_google, -4)"
   ]
  },
  {
   "cell_type": "markdown",
   "metadata": {},
   "source": [
    "The most common genres in Play Store are tool with around 9% of all apps, followed by entertainment, education and business with 6%, 5% and 4%, respectively."
   ]
  },
  {
   "cell_type": "markdown",
   "metadata": {},
   "source": [
    "For the time being, we will focus on Play Store genres more than categories, because we will provide us more information and can contain some categories. "
   ]
  },
  {
   "cell_type": "markdown",
   "metadata": {},
   "source": [
    "# More Popular Apps by Genre between Apple Users #"
   ]
  },
  {
   "cell_type": "markdown",
   "metadata": {},
   "source": [
    "One way to find out what genres are the most popular (have the most users) is to calculate the average number of installs for each app genre.\n"
   ]
  },
  {
   "cell_type": "markdown",
   "metadata": {},
   "source": [
    "The frequency tables we analyzed on the previous screen showed us that the App Store is dominated by apps designed for fun, while Google Play shows a more balanced landscape of both practical and fun apps. Now, we would like to get an idea about the kind of apps with the most users."
   ]
  },
  {
   "cell_type": "markdown",
   "metadata": {},
   "source": [
    "Thus, I will need to calculate the average number of user ratings per app genre:\n",
    "\n",
    "1. Isolate the apps of each genre.\n",
    "2. Sum up the user ratings for the apps of that genre.\n",
    "3. Divide the sum by the number of apps belonging to that genre (not by the total number of apps)."
   ]
  },
  {
   "cell_type": "code",
   "execution_count": 21,
   "metadata": {
    "scrolled": true
   },
   "outputs": [
    {
     "name": "stdout",
     "output_type": "stream",
     "text": [
      "Social Networking : 71548.34905660378\n",
      "Photo & Video : 28441.54375\n",
      "Games : 22788.6696905016\n",
      "Music : 57326.530303030304\n",
      "Reference : 74942.11111111111\n",
      "Health & Fitness : 23298.015384615384\n",
      "Weather : 52279.892857142855\n",
      "Utilities : 18684.456790123455\n",
      "Travel : 28243.8\n",
      "Shopping : 26919.690476190477\n",
      "News : 21248.023255813954\n",
      "Navigation : 86090.33333333333\n",
      "Lifestyle : 16485.764705882353\n",
      "Entertainment : 14029.830708661417\n",
      "Food & Drink : 33333.92307692308\n",
      "Sports : 23008.898550724636\n",
      "Book : 39758.5\n",
      "Finance : 31467.944444444445\n",
      "Education : 7003.983050847458\n",
      "Productivity : 21028.410714285714\n",
      "Business : 7491.117647058823\n",
      "Catalogs : 4004.0\n",
      "Medical : 612.0\n"
     ]
    }
   ],
   "source": [
    "genre_apple=freq_table(english_free_apple, -5)\n",
    "\n",
    "for genre in genre_apple:\n",
    "    total=0\n",
    "    len_genre=0\n",
    "    \n",
    "    for app in english_free_apple:\n",
    "        genre_app=app[-5]\n",
    "        \n",
    "        if genre_app == genre:\n",
    "            number_user_rating = float (app[5])\n",
    "            total+= number_user_rating\n",
    "            len_genre+=1\n",
    "\n",
    "    average_number= total/len_genre\n",
    "    print(genre, \":\", average_number)\n"
   ]
  },
  {
   "cell_type": "markdown",
   "metadata": {},
   "source": [
    "If we focus on the table above, we see that navigation genre app is the most common between users, because most of people need them in their daily routine to seek information or whathever place that they want to go. However, it is not the first genre when we have analyzed what genre is the \n",
    "most downloaded. This is because we only need to download them once, while new games come out every day. \n"
   ]
  },
  {
   "cell_type": "markdown",
   "metadata": {},
   "source": [
    "In the next step, I am going to show what kind of navigation apps are more popular between users. "
   ]
  },
  {
   "cell_type": "code",
   "execution_count": 22,
   "metadata": {
    "scrolled": false
   },
   "outputs": [
    {
     "name": "stdout",
     "output_type": "stream",
     "text": [
      "Waze - GPS Navigation, Maps & Real-time Traffic : 345046\n",
      "Google Maps - Navigation & Transit : 154911\n",
      "Geocaching® : 12811\n",
      "CoPilot GPS – Car Navigation & Offline Maps : 3582\n",
      "ImmobilienScout24: Real Estate Search in Germany : 187\n",
      "Railway Route Search : 5\n"
     ]
    }
   ],
   "source": [
    "for app in english_free_apple:\n",
    "    if app[-5] == 'Navigation':\n",
    "        print(app[1],':', app[5])"
   ]
  },
  {
   "cell_type": "markdown",
   "metadata": {},
   "source": [
    "Waze and Google Maps occupy the first positions with half a million of downloads."
   ]
  },
  {
   "cell_type": "markdown",
   "metadata": {},
   "source": [
    "Then, I am going to check what sport apps are more popular between users, because it has one of the highest number of installs. It could be a good niche to invest in a near future.  "
   ]
  },
  {
   "cell_type": "code",
   "execution_count": 23,
   "metadata": {
    "scrolled": false
   },
   "outputs": [
    {
     "name": "stdout",
     "output_type": "stream",
     "text": [
      "ESPN: Get scores, news, alerts & watch live sports : 290996\n",
      "Yahoo Fantasy Sports : 190670\n",
      "WatchESPN : 159735\n",
      "The Masters Tournament : 148160\n",
      "Yahoo Sports - Teams, Scores, News & Highlights : 137951\n",
      "ESPN Fantasy Football Baseball Basketball Hockey : 64925\n",
      "CBS Sports App - Sports Scores, News, Stats, Watch : 59639\n",
      "FOX Sports Mobile : 57500\n",
      "2016 U.S. Open Golf Championship : 54192\n",
      "NBC Sports : 47172\n",
      "NBA : 43682\n",
      "ESPN Tournament Challenge : 39642\n",
      "2016 US Open Tennis Championships : 37522\n",
      "NFL : 27317\n",
      "MLB.com At Bat : 21830\n",
      "The Championships, Wimbledon 2016 - Tennis Grand Slam : 20953\n",
      "DraftKings - Daily Fantasy Golf, Baseball, & More : 20251\n",
      "Bleacher Report: Sports news, scores, & highlights : 16979\n",
      "Univision Deportes: Liga MX, MLS, Fútbol En Vivo : 16683\n",
      "NASCAR MOBILE : 16385\n",
      "NHL : 15554\n",
      "FOX Sports GO : 13898\n",
      "NCAA March Madness Live - Men's College Basketball : 13572\n",
      "PGA Championship 2016 – Baltusrol Golf Club : 10472\n",
      "365Scores : 9879\n",
      "NFL Fantasy Football - Official NFL Fantasy App : 8234\n",
      "FanDuel - Daily Fantasy Baseball, Golf & Sports : 8014\n",
      "GolfNow – Book Tee Times, Golf GPS, Scorecard : 7535\n",
      "Ryder Cup 2016 – Hazeltine National Golf Club : 3818\n",
      "Onefootball - Soccer Scores & Live News : 3194\n",
      "NFL HUDDLE: Football Card Trader : 2896\n",
      "KICK: Official Football Card Trader : 2641\n",
      "Hudl : 2622\n",
      "SportsManias: Sports Emojis, Fantasy & Team News : 2431\n",
      "BTN2Go : 1628\n",
      "Pac-12 Now : 1221\n",
      "Watch NFL Network : 1110\n",
      "Golf Live Extra : 840\n",
      "UFC ® : 809\n",
      "Premier League - Official App : 791\n",
      "NCAA Sports : 636\n",
      "The Olympics - Official App for the Olympic Games : 470\n",
      "NBC Sports Scores : 428\n",
      "DK Live – Fantasy Sports Play by Play and News : 416\n",
      "Résultats Foot en Direct : 339\n",
      "NFL Rush Gameday : 272\n",
      "NFL Gridiron from Panini - Card Collecting-Trading : 257\n",
      "Hiking Project : 247\n",
      "2016 U.S. Open Golf Championship for iPad : 146\n",
      "The Open : 142\n",
      "European Qualifiers Official App : 135\n",
      "TwinSpires Official Kentucky Derby Wagering App : 131\n",
      "SofaScore Live Sports: Scores, VIDEO & Stats : 103\n",
      "Team USA App : 101\n",
      "NBAmoji : 89\n",
      "FOX Sports VR : 81\n",
      "BAA Marathon : 70\n",
      "TCS NYC Marathon : 43\n",
      "Vendée Globe 2016 : 42\n",
      "Dream Team - be your own fantasy football manager : 35\n",
      "NFL Draft - Fan Mobile Pass : 32\n",
      "WKC Dog Show 2017 : 30\n",
      "CCTV5 : 14\n",
      "My8to18 : 10\n",
      "Race Calendar 2016 : 1\n",
      "Team GB Live : 1\n",
      "francetv JO – Regarder les Jeux Olympiques de Rio 2016 : 0\n",
      "FFmoji 2016 - Your Fantasy Football Emoji Keyboard : 0\n",
      "HowDidiDo : 0\n"
     ]
    }
   ],
   "source": [
    "for app in english_free_apple:\n",
    "    if app[-5] == 'Sports':\n",
    "        print(app[1], ':', app[5])"
   ]
  },
  {
   "cell_type": "markdown",
   "metadata": {},
   "source": [
    "On this branch, we can see that it exists a great variety because of the big number of different sports that people follow. It can be easy to create an app with ads and high number of visualizations. "
   ]
  },
  {
   "cell_type": "markdown",
   "metadata": {},
   "source": [
    "# More Popular Apps by Genre between Android Users #"
   ]
  },
  {
   "cell_type": "markdown",
   "metadata": {},
   "source": [
    "Previously, we came up with an app profile recommendation for the App Store based on the number of user ratings. We have data about the number of installs for the Google Play market, so I should be able to get a clearer picture about genre popularity. However, the install numbers do not seem precise enough — we can see that most values are open-ended (100+, 1,000+, 5,000+, etc.)."
   ]
  },
  {
   "cell_type": "code",
   "execution_count": 24,
   "metadata": {
    "scrolled": true
   },
   "outputs": [
    {
     "name": "stdout",
     "output_type": "stream",
     "text": [
      "1,000,000+ : 15.726534296028879\n",
      "100,000+ : 11.552346570397113\n",
      "10,000,000+ : 10.548285198555957\n",
      "10,000+ : 10.198555956678701\n",
      "1,000+ : 8.393501805054152\n",
      "100+ : 6.915613718411552\n",
      "5,000,000+ : 6.825361010830325\n",
      "500,000+ : 5.561823104693141\n",
      "50,000+ : 4.7721119133574\n",
      "5,000+ : 4.512635379061372\n",
      "10+ : 3.5424187725631766\n",
      "500+ : 3.2490974729241873\n",
      "50,000,000+ : 2.3014440433213\n",
      "100,000,000+ : 2.1322202166064983\n",
      "50+ : 1.917870036101083\n",
      "5+ : 0.78971119133574\n",
      "1+ : 0.5076714801444043\n",
      "500,000,000+ : 0.2707581227436823\n",
      "1,000,000,000+ : 0.22563176895306858\n",
      "0+ : 0.04512635379061372\n",
      "0 : 0.01128158844765343\n"
     ]
    }
   ],
   "source": [
    "display_table(english_free_google, 5)"
   ]
  },
  {
   "cell_type": "markdown",
   "metadata": {},
   "source": [
    "For instance, we do not know whether an app with 100,000+ installs has 100,000 installs, 200,000, or 350,000. However, I do not need very precise data for our purposes — we only want to find out which app genres attract the most users, and we do not need perfect precision with respect to the number of users."
   ]
  },
  {
   "cell_type": "markdown",
   "metadata": {},
   "source": [
    "I am going to leave the numbers as they are, which means that I will consider that an app with 100,000+ installs has 100,000 installs, and an app with 1,000,000+ installs has 1,000,000 installs, and so on. To perform computations, however, I will need to convert each install number from string to float. This means I need to remove the commas and the plus characters, otherwise the conversion will fail and raise an error."
   ]
  },
  {
   "cell_type": "code",
   "execution_count": 25,
   "metadata": {
    "scrolled": true
   },
   "outputs": [
    {
     "name": "stdout",
     "output_type": "stream",
     "text": [
      "ART_AND_DESIGN : 1986335.0877192982\n",
      "AUTO_AND_VEHICLES : 647317.8170731707\n",
      "BEAUTY : 513151.88679245283\n",
      "BOOKS_AND_REFERENCE : 8767811.894736841\n",
      "BUSINESS : 1712290.1474201474\n",
      "COMICS : 817657.2727272727\n",
      "COMMUNICATION : 38456119.167247385\n",
      "DATING : 854028.8303030303\n",
      "EDUCATION : 1833495.145631068\n",
      "ENTERTAINMENT : 11640705.88235294\n",
      "EVENTS : 253542.22222222222\n",
      "FINANCE : 1387692.475609756\n",
      "FOOD_AND_DRINK : 1924897.7363636363\n",
      "HEALTH_AND_FITNESS : 4188821.9853479853\n",
      "HOUSE_AND_HOME : 1331540.5616438356\n",
      "LIBRARIES_AND_DEMO : 638503.734939759\n",
      "LIFESTYLE : 1437816.2687861272\n",
      "GAME : 15588015.603248259\n",
      "FAMILY : 3695641.8198090694\n",
      "MEDICAL : 120550.61980830671\n",
      "SOCIAL : 23253652.127118643\n",
      "SHOPPING : 7036877.311557789\n",
      "PHOTOGRAPHY : 17840110.40229885\n",
      "SPORTS : 3638640.1428571427\n",
      "TRAVEL_AND_LOCAL : 13984077.710144928\n",
      "TOOLS : 10801391.298666667\n",
      "PERSONALIZATION : 5201482.6122448975\n",
      "PRODUCTIVITY : 16787331.344927534\n",
      "PARENTING : 542603.6206896552\n",
      "WEATHER : 5074486.197183099\n",
      "VIDEO_PLAYERS : 24727872.452830188\n",
      "NEWS_AND_MAGAZINES : 9549178.467741935\n",
      "MAPS_AND_NAVIGATION : 4056941.7741935486\n"
     ]
    }
   ],
   "source": [
    "category_table= freq_table(english_free_google, 1)\n",
    "\n",
    "for category in category_table:\n",
    "    total= 0\n",
    "    len_category= 0\n",
    "    \n",
    "    for app in english_free_google:\n",
    "        category_app= app[1]\n",
    "        \n",
    "        if category_app== category:\n",
    "            n_installs= app[5]\n",
    "            n_installs= n_installs.replace (',','')\n",
    "            n_installs= n_installs.replace ('+','')\n",
    "            total+= float(n_installs)\n",
    "            len_category+= 1\n",
    "            \n",
    "    av_number= total / len_category\n",
    "    print(category, \":\", av_number)\n",
    "        \n",
    "        \n"
   ]
  },
  {
   "cell_type": "markdown",
   "metadata": {},
   "source": [
    "As we can see, the main genre for Google users are related with communication. It is a consistent data because of the new technological era that we life right now, where all we need to be connected.  On average, communication apps have the most installs: 38,456,119. "
   ]
  },
  {
   "cell_type": "code",
   "execution_count": 26,
   "metadata": {
    "scrolled": false
   },
   "outputs": [
    {
     "name": "stdout",
     "output_type": "stream",
     "text": [
      "WhatsApp Messenger : 1,000,000,000+\n",
      "imo beta free calls and text : 100,000,000+\n",
      "Android Messages : 100,000,000+\n",
      "Google Duo - High Quality Video Calls : 500,000,000+\n",
      "Messenger – Text and Video Chat for Free : 1,000,000,000+\n",
      "imo free video calls and chat : 500,000,000+\n",
      "Skype - free IM & video calls : 1,000,000,000+\n",
      "Who : 100,000,000+\n",
      "GO SMS Pro - Messenger, Free Themes, Emoji : 100,000,000+\n",
      "LINE: Free Calls & Messages : 500,000,000+\n",
      "Google Chrome: Fast & Secure : 1,000,000,000+\n",
      "Firefox Browser fast & private : 100,000,000+\n",
      "UC Browser - Fast Download Private & Secure : 500,000,000+\n",
      "Gmail : 1,000,000,000+\n",
      "Hangouts : 1,000,000,000+\n",
      "Messenger Lite: Free Calls & Messages : 100,000,000+\n",
      "Kik : 100,000,000+\n",
      "KakaoTalk: Free Calls & Text : 100,000,000+\n",
      "Opera Mini - fast web browser : 100,000,000+\n",
      "Opera Browser: Fast and Secure : 100,000,000+\n",
      "Telegram : 100,000,000+\n",
      "Truecaller: Caller ID, SMS spam blocking & Dialer : 100,000,000+\n",
      "UC Browser Mini -Tiny Fast Private & Secure : 100,000,000+\n",
      "Viber Messenger : 500,000,000+\n",
      "WeChat : 100,000,000+\n",
      "Yahoo Mail – Stay Organized : 100,000,000+\n",
      "BBM - Free Calls & Messages : 100,000,000+\n"
     ]
    }
   ],
   "source": [
    "for app in english_free_google:\n",
    "    if app[1] == 'COMMUNICATION' and (app[5]=='1,000,000,000+' \n",
    "                                      or app[5]=='500,000,000+' \n",
    "                                      or app[5]=='100,000,000+'):\n",
    "        print(app[0],':', app[5])"
   ]
  },
  {
   "cell_type": "markdown",
   "metadata": {},
   "source": [
    "In this table, we can check that WhatsApp, Skype and Hangout apps \n",
    "are the most outstanding among all of them. I think that communication is a genre too harness and the competition is too great on this kind of market. It could be very difficult to stand out and get incomes with engaged ads."
   ]
  },
  {
   "cell_type": "markdown",
   "metadata": {},
   "source": [
    "However, like in Apple Store, sport genre are popular too between Android users. Below, I am going to extract the name of more popular apps:"
   ]
  },
  {
   "cell_type": "code",
   "execution_count": 27,
   "metadata": {
    "scrolled": true
   },
   "outputs": [
    {
     "name": "stdout",
     "output_type": "stream",
     "text": [
      "LiveScore: Live Sport Updates : 10,000,000+\n",
      "Onefootball - Soccer Scores : 10,000,000+\n",
      "Futbol24 : 1,000,000+\n",
      "kicker football news : 5,000,000+\n",
      "Football Live Scores : 5,000,000+\n",
      "Pro 2018 - Series A and B : 5,000,000+\n",
      "BeSoccer - Soccer Live Score : 10,000,000+\n",
      "Sport.pl LIVE : 1,000,000+\n",
      "The Team - Live Sport: football, tennis, rugby .. : 5,000,000+\n",
      "MARCA - Sports Leader Diary : 5,000,000+\n",
      "Sahadan Live Scores : 5,000,000+\n",
      "Foot Mercato: transfers, results, news, live : 1,000,000+\n",
      "All Football - Latest News & Videos : 10,000,000+\n",
      "Eurosport : 10,000,000+\n",
      "beIN SPORTS TR : 10,000,000+\n",
      "Top Mercato: football news : 1,000,000+\n",
      "GollerCepte Live Score : 1,000,000+\n",
      "Championat : 1,000,000+\n",
      "Speed Boat Racing : 1,000,000+\n",
      "La Liga - Spanish Soccer League Official : 10,000,000+\n",
      "Goal Live Scores : 5,000,000+\n",
      "Mackolik Live Results : 10,000,000+\n",
      "WatchESPN : 10,000,000+\n",
      "CBS Sports Fantasy : 1,000,000+\n",
      "NBC Sports : 5,000,000+\n",
      "UFC : 1,000,000+\n",
      "Telemundo Deportes - Live : 1,000,000+\n",
      "Golf Channel : 1,000,000+\n",
      "GolfNow: Tee Time Deals at Golf Courses, Golf GPS : 1,000,000+\n",
      "Golf GPS by SwingxSwing : 1,000,000+\n",
      "Golf GPS Rangefinder: Golf Pad : 1,000,000+\n",
      "GolfLogix GPS + Putt Breaks : 1,000,000+\n",
      "PGA TOUR : 1,000,000+\n",
      "FanDuel: Daily Fantasy Sports : 1,000,000+\n",
      "DraftKings - Daily Fantasy Sports : 1,000,000+\n",
      "Fantasy Football Manager (FPL) : 1,000,000+\n",
      "Fantasy Football : 1,000,000+\n",
      "ESPN : 10,000,000+\n",
      "US Open Tennis Championships 2018 : 1,000,000+\n",
      "Bleacher Report: sports news, scores, & highlights : 5,000,000+\n",
      "The Championships, Wimbledon 2018 : 1,000,000+\n",
      "theScore: Live Sports Scores, News, Stats & Videos : 10,000,000+\n",
      "Yahoo Sports - scores, stats, news, & highlights : 1,000,000+\n",
      "MLB At Bat : 5,000,000+\n",
      "FOX Sports: Live Streaming, Scores & News : 5,000,000+\n",
      "FotMob - Live Soccer Scores : 10,000,000+\n",
      "NCAA March Madness Live : 5,000,000+\n",
      "FIFA - Tournaments, Soccer News & Live Scores : 10,000,000+\n",
      "365Scores - Live Scores : 10,000,000+\n",
      "NBA : 10,000,000+\n",
      "BBC Sport : 1,000,000+\n",
      "NHL : 5,000,000+\n",
      "NASCAR MOBILE : 1,000,000+\n",
      "MLB Ballpark : 1,000,000+\n",
      "Univision Deportes: Liga MX, MLS, Fútbol Live : 5,000,000+\n",
      "Real Basketball : 10,000,000+\n",
      "Basketball Stars : 10,000,000+\n",
      "Be A Legend: Soccer : 1,000,000+\n",
      "I'm Ping Pong King :) : 1,000,000+\n",
      "AE Basketball : 1,000,000+\n",
      "League of Gamers - Be an E-Sports Legend! : 5,000,000+\n",
      "PES 2018 PRO EVOLUTION SOCCER : 10,000,000+\n",
      "Tennis Champion 3D - Online Sports Game : 5,000,000+\n",
      "SofaScore Live Score : 10,000,000+\n",
      "Ultimate Tennis : 10,000,000+\n",
      "Soccer Star 2018 Top Leagues · MLS Soccer Games : 10,000,000+\n",
      "Range Master: Sniper Academy : 10,000,000+\n",
      "FC Barcelona Official App : 5,000,000+\n",
      "WGT Golf Game by Topgolf : 10,000,000+\n",
      "AS - News and sports results. : 1,000,000+\n",
      "MARCA - Diario Líder Deportivo : 5,000,000+\n",
      "PBA® Bowling Challenge : 10,000,000+\n",
      "Pool Billiards Classic - bi a : 1,000,000+\n",
      "B.M.Snowboard Free : 1,000,000+\n",
      "Fists For Fighting (Fx3) : 10,000,000+\n",
      "Soccer FC : 1,000,000+\n",
      "Bike Unchained : 5,000,000+\n",
      "Bike 3D Configurator : 1,000,000+\n",
      "Monster Fishing 2018 : 1,000,000+\n",
      "Draft Simulator for FUT 18 : 5,000,000+\n",
      "Soccer Manager 2018 : 1,000,000+\n",
      "Online Soccer Manager (OSM) : 10,000,000+\n",
      "PES CLUB MANAGER : 10,000,000+\n",
      "Top Soccer Manager : 10,000,000+\n",
      "PORTABLE SOCCER DX Lite : 1,000,000+\n",
      "EA SPORTS™ FIFA 18 Companion : 10,000,000+\n",
      "FIFA 16 Soccer : 10,000,000+\n",
      "MLB Perfect Inning 2018 : 1,000,000+\n",
      "Real Football : 10,000,000+\n",
      "Fit the Fat 2 : 5,000,000+\n",
      "Esporte Interativo Plus : 1,000,000+\n",
      "Booking Revolution : 5,000,000+\n",
      "Real Madrid App : 5,000,000+\n",
      "CBS Sports App - Scores, News, Stats & Watch Live : 5,000,000+\n",
      "Yahoo Fantasy Sports - #1 Rated Fantasy App : 5,000,000+\n",
      "Telemundo Deportes - En Vivo : 1,000,000+\n",
      "Univision Deportes: Liga MX, MLS, Fútbol En Vivo : 5,000,000+\n",
      "Beach Volleyball 3D : 5,000,000+\n",
      "Premier League - Official App : 5,000,000+\n",
      "ESPN Fantasy Sports : 5,000,000+\n",
      "Soccer 2018 : 10,000,000+\n",
      "FC Barcelona Fantasy Manager: Real football mobile : 1,000,000+\n",
      "FC Bayern Munich : 1,000,000+\n",
      "Leghe Fantagazzetta : 1,000,000+\n",
      "Strike! Ten Pin Bowling : 5,000,000+\n",
      "Crazy Freekick : 5,000,000+\n",
      "Hunting Safari 3D : 5,000,000+\n",
      "Mobile Kick : 10,000,000+\n"
     ]
    }
   ],
   "source": [
    "for app in english_free_google:\n",
    "    if app[1] == 'SPORTS' and (app[5]=='5,000,000+' \n",
    "                                      or app[5]=='1,000,000+' \n",
    "                                      or app[5]=='10,000,000+'):\n",
    "        print(app[0],':', app[5])"
   ]
  },
  {
   "cell_type": "markdown",
   "metadata": {},
   "source": [
    "Perhaps, sport apps are not as relevant as communication apps but it is kind of market with high demand. It is true that exists a great variety of apps of this genre, but only few of them have news and videos in their content.  "
   ]
  },
  {
   "cell_type": "markdown",
   "metadata": {},
   "source": [
    "# Conclusion #"
   ]
  },
  {
   "cell_type": "markdown",
   "metadata": {},
   "source": [
    "In this project, I analyzed data about the App Store and Google Play mobile apps with the goal of recommending an app profile that can be profitable for both markets.\n",
    "\n",
    "I found that both Android and Apple users use many apps related to news or watching live videos. Many of these app are free to download and have engaged ads with them. Also, it is a kind of market with high demand. \n",
    "\n",
    "Perhaps, creating an app that include news and videos from different sports can be a good option and report us great incomes in the near future. "
   ]
  }
 ],
 "metadata": {
  "kernelspec": {
   "display_name": "Python 3",
   "language": "python",
   "name": "python3"
  },
  "language_info": {
   "codemirror_mode": {
    "name": "ipython",
    "version": 3
   },
   "file_extension": ".py",
   "mimetype": "text/x-python",
   "name": "python",
   "nbconvert_exporter": "python",
   "pygments_lexer": "ipython3",
   "version": "3.8.2"
  }
 },
 "nbformat": 4,
 "nbformat_minor": 2
}
